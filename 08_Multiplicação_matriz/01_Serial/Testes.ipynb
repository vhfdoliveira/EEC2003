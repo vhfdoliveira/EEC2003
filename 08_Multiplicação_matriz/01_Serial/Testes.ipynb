{
 "cells": [
  {
   "cell_type": "code",
   "execution_count": 18,
   "metadata": {
    "collapsed": true
   },
   "outputs": [],
   "source": [
    "import pandas as pd\n",
    "import numpy as np\n"
   ]
  },
  {
   "cell_type": "code",
   "execution_count": 15,
   "metadata": {
    "collapsed": false
   },
   "outputs": [
    {
     "data": {
      "text/plain": [
       "array([[-9.26173 , -8.71059 ,  6.18502 , -9.83969 ],\n",
       "       [ 2.44966 , -4.27093 , -8.09702 ,  3.05287 ],\n",
       "       [ 4.48866 , -2.61649 ,  8.4769  , -9.73078 ],\n",
       "       [-0.126563,  5.38567 ,  4.38391 ,  8.3415  ]])"
      ]
     },
     "execution_count": 15,
     "metadata": {},
     "output_type": "execute_result"
    }
   ],
   "source": [
    "matrix1 = pd.read_csv('matrix_test1.csv', header = None, sep=';')\n",
    "matrix1 = matrix1.dropna(axis=1)\n",
    "matrix1.as_matrix()"
   ]
  },
  {
   "cell_type": "code",
   "execution_count": 16,
   "metadata": {
    "collapsed": false
   },
   "outputs": [
    {
     "data": {
      "text/plain": [
       "array([[-7.66101  ,  6.12999  , -5.59276  ,  9.48332  ],\n",
       "       [-1.4372   ,  9.05001  , -6.2979   ,  0.845171 ],\n",
       "       [-7.10052  , -7.37378  , -0.839738 ,  0.0762239],\n",
       "       [-5.85758  , -1.36195  , -6.01223  , -3.85811  ]])"
      ]
     },
     "execution_count": 16,
     "metadata": {},
     "output_type": "execute_result"
    }
   ],
   "source": [
    "matrix2 = pd.read_csv('matrix_test2.csv', header = None, sep=';')\n",
    "matrix2 = matrix2.dropna(axis=1)\n",
    "matrix2.as_matrix()"
   ]
  },
  {
   "cell_type": "code",
   "execution_count": 19,
   "metadata": {
    "collapsed": false
   },
   "outputs": [
    {
     "data": {
      "text/plain": [
       "array([[  97.19297924, -167.81104987,  160.62174092,  -56.75983467],\n",
       "       [  26.98193304,   31.91221993,    1.64234837,    7.22574877],\n",
       "       [ -33.81882539,  -45.41777961,   42.75970666,   78.54457969],\n",
       "       [ -86.75972872,    4.27784363,  -87.04292697,  -28.49669118]])"
      ]
     },
     "execution_count": 19,
     "metadata": {},
     "output_type": "execute_result"
    }
   ],
   "source": [
    "np.matmul(matrix1.as_matrix(), matrix2.as_matrix())"
   ]
  },
  {
   "cell_type": "code",
   "execution_count": null,
   "metadata": {
    "collapsed": true
   },
   "outputs": [],
   "source": []
  }
 ],
 "metadata": {
  "kernelspec": {
   "display_name": "Python 3",
   "language": "python",
   "name": "python3"
  },
  "language_info": {
   "codemirror_mode": {
    "name": "ipython",
    "version": 3
   },
   "file_extension": ".py",
   "mimetype": "text/x-python",
   "name": "python",
   "nbconvert_exporter": "python",
   "pygments_lexer": "ipython3",
   "version": "3.6.3"
  }
 },
 "nbformat": 4,
 "nbformat_minor": 2
}
